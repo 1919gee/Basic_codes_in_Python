{
  "nbformat": 4,
  "nbformat_minor": 0,
  "metadata": {
    "colab": {
      "provenance": []
    },
    "kernelspec": {
      "name": "python3",
      "display_name": "Python 3"
    },
    "language_info": {
      "name": "python"
    }
  },
  "cells": [
    {
      "cell_type": "code",
      "metadata": {
        "id": "ETp1lWyY5KHR"
      },
      "source": [],
      "execution_count": null,
      "outputs": []
    },
    {
      "cell_type": "markdown",
      "metadata": {
        "id": "ntfaRh_baZw_"
      },
      "source": [
        "**A company decided to give bonus of 5% to employee if his/her year of service is more than 5 years. Ask user for their salary and year of service and print the net bonus amount**"
      ]
    },
    {
      "cell_type": "code",
      "metadata": {
        "id": "mMpP--t2ZZHD",
        "colab": {
          "base_uri": "https://localhost:8080/"
        },
        "outputId": "2ad62ba0-1b1f-47b3-a1fb-1ac429693925"
      },
      "source": [
        "sal=int(input(\"enter the salary:\"))\n",
        "exp=int(input(\"enter the number of experience:\"))\n",
        "if exp>=5:\n",
        "    bonus=(0.05*sal)+sal\n",
        "    print(\"your bonus salary is\",bonus)\n",
        "else:\n",
        "    print(\"your salary is\",sal)"
      ],
      "execution_count": null,
      "outputs": [
        {
          "output_type": "stream",
          "text": [
            "enter the salary:70000\n",
            "enter the number of experience:8\n",
            "your bonus salary is 73500.0\n"
          ],
          "name": "stdout"
        }
      ]
    },
    {
      "cell_type": "markdown",
      "metadata": {
        "id": "teLZGmNxaqml"
      },
      "source": [
        "**A company decided to give bonus of 8% to male employee and 10% to female employee. if his/her year of service is more than 5 years. Ask user for their salary and year of service and print the net bonus amount**\n"
      ]
    },
    {
      "cell_type": "code",
      "metadata": {
        "colab": {
          "base_uri": "https://localhost:8080/"
        },
        "id": "zKOMb0TTav69",
        "outputId": "45c4e896-6bb8-4edd-9012-56e24c66a427"
      },
      "source": [
        "sal=int(input(\"enter the salary:\"))\n",
        "ser=int(input(\"enter the number of year of service:\"))\n",
        "G=input(\"enter the gender:\")\n",
        "if ser>=5:\n",
        "    if G==\"female\":\n",
        "        bonus=(0.1*sal)+sal\n",
        "        print(\"your bonus salary is\",bonus)\n",
        "    else:\n",
        "        bonus=(0.08*sal)+sal\n",
        "        print(\"your bonus salary is\",bonus)\n",
        "else:\n",
        "    print(\"your salary is\",sal)"
      ],
      "execution_count": null,
      "outputs": [
        {
          "output_type": "stream",
          "text": [
            "enter the salary:30000\n",
            "enter the number of year of service:6\n",
            "enter the gender:female\n",
            "your bonus salary is 33000.0\n"
          ],
          "name": "stdout"
        }
      ]
    },
    {
      "cell_type": "markdown",
      "metadata": {
        "id": "1Fkh02dqa80O"
      },
      "source": [
        "**write program to find given input year is  leap year or not**"
      ]
    },
    {
      "cell_type": "code",
      "metadata": {
        "colab": {
          "base_uri": "https://localhost:8080/"
        },
        "id": "nhB3PJf6bG91",
        "outputId": "6604b18f-89d6-48a7-9622-5954679904e1"
      },
      "source": [
        "year = int(input(\"enter year: \"))\n",
        "if year % 4 == 0 and  year % 100 != 0 or year % 400 == 0 :\n",
        "    print(year,\" is \\\"leap year\\\"\")\n",
        "else:\n",
        "    print(year,\" is not \\\"leap year\\\"\")"
      ],
      "execution_count": null,
      "outputs": [
        {
          "output_type": "stream",
          "text": [
            "enter year: 2020\n",
            "2020  is \"leap year\"\n"
          ],
          "name": "stdout"
        }
      ]
    },
    {
      "cell_type": "markdown",
      "metadata": {
        "id": "-7dGnECWbaJn"
      },
      "source": [
        "**write program program for grading students like following\n",
        " 0-40 p\n",
        "41-50- c\n",
        "50 -60 -b\n",
        "60- 70 -b+\n",
        "70- 80- a\n",
        "80- 90-a+\n",
        "90 -100- o**\n"
      ]
    },
    {
      "cell_type": "code",
      "metadata": {
        "colab": {
          "base_uri": "https://localhost:8080/"
        },
        "id": "2KStFt0tbC8j",
        "outputId": "8cdf9990-29e4-496b-eb4a-21f427cc6f7d"
      },
      "source": [
        "marks=int(input(\"Enter the marks:\"))\n",
        "if marks>0 and marks<=40:\n",
        "    print(\"your grade is Pass\")\n",
        "if marks>41 and marks<50 :\n",
        "    print(\"your grade is \\\"C\\\"\")\n",
        "if marks>50 and marks<60 :\n",
        "    print(\"your grade is \\\"B\\\"\")\n",
        "if marks>60 and marks<70 :\n",
        "    print(\"your grade is \\\"B\\\"\")\n",
        "if marks>70 and marks<80 :\n",
        "    print(\"your grade is \\\"A\\\"\")\n",
        "if marks>80 and marks<90 :\n",
        "    print(\"your grade is \\\"A\\\"\")\n",
        "if marks>90 and marks<100 :\n",
        "    print(\"your grade is \\\"O\\\"\")"
      ],
      "execution_count": null,
      "outputs": [
        {
          "output_type": "stream",
          "text": [
            "Enter the marks:99\n",
            "your grade is \"O\"\n"
          ],
          "name": "stdout"
        }
      ]
    },
    {
      "cell_type": "markdown",
      "metadata": {
        "id": "pf9lzAuXbrHf"
      },
      "source": [
        "**write program for positive,negative or zero**\n"
      ]
    },
    {
      "cell_type": "code",
      "metadata": {
        "colab": {
          "base_uri": "https://localhost:8080/"
        },
        "id": "O0yrHF0Yb0Ct",
        "outputId": "6c4cb179-fea7-42e6-9aa6-c02f0c2d33ec"
      },
      "source": [
        "n=int(input(\"enter the number:\"))\n",
        "if n>0:\n",
        "    print(n,\" is positive number\")\n",
        "if n==0:\n",
        "    print(n,\" is zero\")\n",
        "if n<0:\n",
        "    print(n,\"is negative number\")"
      ],
      "execution_count": null,
      "outputs": [
        {
          "output_type": "stream",
          "text": [
            "enter the number:5\n",
            "5  is positive number\n"
          ],
          "name": "stdout"
        }
      ]
    },
    {
      "cell_type": "markdown",
      "metadata": {
        "id": "Blti2zp3b6lF"
      },
      "source": [
        "**write program to take uesr input between 1-7 and display corresponding day of week**"
      ]
    },
    {
      "cell_type": "code",
      "metadata": {
        "colab": {
          "base_uri": "https://localhost:8080/"
        },
        "id": "bj9xtl3mb-b1",
        "outputId": "83f5956e-c02c-486b-e946-e84e3a54b9d1"
      },
      "source": [
        "N=int(input(\"Enter number b/w 1 and 7:\"))\n",
        "if N==1:\n",
        "    print('\\\"sunday\\\"')\n",
        "if N==2:\n",
        "    print('\\\"monday\\\"')\n",
        "if N==3:\n",
        "    print(\"\\\"tuesday\\\"\")\n",
        "if N==4:\n",
        "    print(\"\\\"wedneday\\\"\")\n",
        "if N==5:\n",
        "    print(\"\\\"thursday\\\"\")\n",
        "if N==6:\n",
        "    print(\"\\\"friday\\\"\")\n",
        "if N==7:\n",
        "    print(\"\\\"saturday\\\"\")\n",
        "if N>7:\n",
        "    print(\"\\\"number is  not valid\\\"\")"
      ],
      "execution_count": null,
      "outputs": [
        {
          "output_type": "stream",
          "text": [
            "Enter number b/w 1 and 7:7\n",
            "\"saturday\"\n"
          ],
          "name": "stdout"
        }
      ]
    },
    {
      "cell_type": "markdown",
      "metadata": {
        "id": "R1mjjlJmcnHn"
      },
      "source": [
        "**write program for tax calculation**"
      ]
    },
    {
      "cell_type": "code",
      "metadata": {
        "id": "bnrW59Aqd4e_",
        "colab": {
          "base_uri": "https://localhost:8080/"
        },
        "outputId": "4731b2e1-75e9-4c05-af40-e7d62fb2ace1"
      },
      "source": [
        "a=int(input(\"enter the salary:\"))\n",
        "if a<=500000:\n",
        "  print(\"no tax\")\n",
        "elif a>500000 and a<=1000000:\n",
        "  print(\"tax is\",(a*5/100))\n",
        "elif a>1000000 and a<=2000000:\n",
        "  print(\"tax is \",(a*10/100))\n",
        "elif a>2000000:\n",
        "  print(\"tax is\",(a*30/100))"
      ],
      "execution_count": null,
      "outputs": [
        {
          "output_type": "stream",
          "text": [
            "enter the salary:7000000\n",
            "tax is 2100000.0\n"
          ],
          "name": "stdout"
        }
      ]
    },
    {
      "cell_type": "markdown",
      "metadata": {
        "id": "Y9xODUZJBGT5"
      },
      "source": [
        "**multiplication table**"
      ]
    },
    {
      "cell_type": "code",
      "metadata": {
        "colab": {
          "base_uri": "https://localhost:8080/"
        },
        "id": "rNT5sefn77M5",
        "outputId": "c5b44dd4-9231-43fc-b87a-37f5b20dc80f"
      },
      "source": [
        "a=int(input(\"enter the number:\"))\n",
        "print(\"multiplication table is:\")\n",
        "for i in range (1,11):\n",
        "    print(a,'X',i,'=',a*i)"
      ],
      "execution_count": null,
      "outputs": [
        {
          "output_type": "stream",
          "text": [
            "enter the number:2\n",
            "multiplication table is:\n",
            "2 X 1 = 2\n",
            "2 X 2 = 4\n",
            "2 X 3 = 6\n",
            "2 X 4 = 8\n",
            "2 X 5 = 10\n",
            "2 X 6 = 12\n",
            "2 X 7 = 14\n",
            "2 X 8 = 16\n",
            "2 X 9 = 18\n",
            "2 X 10 = 20\n"
          ],
          "name": "stdout"
        }
      ]
    },
    {
      "cell_type": "code",
      "metadata": {
        "colab": {
          "base_uri": "https://localhost:8080/"
        },
        "id": "ytzId59B8-jI",
        "outputId": "781fbfcf-3382-4f82-c928-67226b2b468c"
      },
      "source": [
        "n=int(input(\"enter the number:\"))\n",
        "for i in range (1,n+1):\n",
        "    if i % 2 == 0 :\n",
        "        print(i,\"is even number\")\n",
        "    if i % 2!=0:\n",
        "        print(i,\"is odd number\")"
      ],
      "execution_count": null,
      "outputs": [
        {
          "output_type": "stream",
          "text": [
            "enter the number:10\n",
            "1 is odd number\n",
            "2 is even number\n",
            "3 is odd number\n",
            "4 is even number\n",
            "5 is odd number\n",
            "6 is even number\n",
            "7 is odd number\n",
            "8 is even number\n",
            "9 is odd number\n",
            "10 is even number\n"
          ],
          "name": "stdout"
        }
      ]
    },
    {
      "cell_type": "markdown",
      "metadata": {
        "id": "qfoniUuiLgnE"
      },
      "source": [
        "**avearge of n numbers**"
      ]
    },
    {
      "cell_type": "code",
      "metadata": {
        "colab": {
          "base_uri": "https://localhost:8080/"
        },
        "id": "hTD-a879_LEq",
        "outputId": "56791255-9824-4226-cb44-00404a27cba8"
      },
      "source": [
        "num= int(input(\"Enter the number:\"))\n",
        "sum=0\n",
        "for i in range (1,num+1):\n",
        "  sum=sum+i\n",
        "Average = sum/num\n",
        "print(Average)"
      ],
      "execution_count": null,
      "outputs": [
        {
          "output_type": "stream",
          "text": [
            "Enter the number:3\n",
            "2.0\n"
          ],
          "name": "stdout"
        }
      ]
    },
    {
      "cell_type": "markdown",
      "metadata": {
        "id": "Blf7tkVMLl1r"
      },
      "source": [
        "**factorial numbers**"
      ]
    },
    {
      "cell_type": "code",
      "metadata": {
        "colab": {
          "base_uri": "https://localhost:8080/"
        },
        "id": "GjwvKK6SCOUs",
        "outputId": "f4a20a86-14b1-49f0-8f93-47c498c8112f"
      },
      "source": [
        "num= int(input(\"Enter the number:\"))\n",
        "factorial=1\n",
        "for i in range (1,num+1):\n",
        "  factorial =factorial*i\n",
        "print(factorial)"
      ],
      "execution_count": null,
      "outputs": [
        {
          "output_type": "stream",
          "text": [
            "Enter the number:3\n",
            "6\n"
          ],
          "name": "stdout"
        }
      ]
    },
    {
      "cell_type": "markdown",
      "metadata": {
        "id": "eDSNTYgYjjEN"
      },
      "source": [
        "**factorial by recursion**"
      ]
    },
    {
      "cell_type": "code",
      "metadata": {
        "colab": {
          "base_uri": "https://localhost:8080/"
        },
        "id": "lnKns2vxjrHc",
        "outputId": "089a2f9b-f30d-40a0-da99-51f2c8e7860a"
      },
      "source": [
        "def factorial(n):\n",
        "  factorial=1\n",
        "  for i in range(1,n+1):\n",
        "    factorial=factorial*i\n",
        "  return factorial\n",
        "n=int(input(\"enter the number:\"))\n",
        "print(factorial(n))\n"
      ],
      "execution_count": null,
      "outputs": [
        {
          "output_type": "stream",
          "text": [
            "enter the number:3\n",
            "6\n"
          ],
          "name": "stdout"
        }
      ]
    },
    {
      "cell_type": "markdown",
      "metadata": {
        "id": "mgUFU9D_S6Kg"
      },
      "source": [
        "**maximum number of two numbers**"
      ]
    },
    {
      "cell_type": "code",
      "metadata": {
        "colab": {
          "base_uri": "https://localhost:8080/"
        },
        "id": "TcSF7thS8-tE",
        "outputId": "c7612969-dd98-46fd-8f0b-1930f58aba13"
      },
      "source": [
        "a=int(input(\"Enter the number:\"))\n",
        "b=int(input(\"Enter the number:\"))\n",
        "if a>b:\n",
        "    print(a,\"is maximum\")\n",
        "else :\n",
        "    print(b,\"is maximum\")"
      ],
      "execution_count": null,
      "outputs": [
        {
          "output_type": "stream",
          "text": [
            "Enter the number:6\n",
            "Enter the number:2\n",
            "6 is maximum\n"
          ],
          "name": "stdout"
        }
      ]
    },
    {
      "cell_type": "markdown",
      "metadata": {
        "id": "2f3x9tOPTIVF"
      },
      "source": [
        "**maximum of 3 numbers**"
      ]
    },
    {
      "cell_type": "code",
      "metadata": {
        "colab": {
          "base_uri": "https://localhost:8080/"
        },
        "id": "Fak88v2D9JAy",
        "outputId": "b3b8cf3c-3cb3-48ca-a212-c125ebe72410"
      },
      "source": [
        "a=int(input(\"Enter the number:\"))\n",
        "b=int(input(\"Enter the number:\"))\n",
        "c=int(input(\"Enter the number:\"))\n",
        "if a>b and a>c:\n",
        "    print(a,\"is maximum\")\n",
        "elif b>a and b>c:\n",
        "     print(b,\"is maximum\")\n",
        "elif c>b and c>a:\n",
        "    print(c,\"c is maximum\")"
      ],
      "execution_count": null,
      "outputs": [
        {
          "output_type": "stream",
          "text": [
            "Enter the number:5\n",
            "Enter the number:4\n",
            "Enter the number:3\n",
            "5 is maximum\n"
          ],
          "name": "stdout"
        }
      ]
    },
    {
      "cell_type": "markdown",
      "metadata": {
        "id": "6y33xRzATMAt"
      },
      "source": [
        "**print 1-n numbers**"
      ]
    },
    {
      "cell_type": "code",
      "metadata": {
        "colab": {
          "base_uri": "https://localhost:8080/"
        },
        "id": "GiQG3zrp-FO7",
        "outputId": "6e33d40a-b1c8-436b-9c00-6064ba6dff26"
      },
      "source": [
        "n=int(input('enter the value for n:'))\n",
        "for i in range(1,n+1):\n",
        "    print(i)\n",
        "else:\n",
        "    print('Task done')"
      ],
      "execution_count": null,
      "outputs": [
        {
          "output_type": "stream",
          "text": [
            "enter the value for n:10\n",
            "1\n",
            "2\n",
            "3\n",
            "4\n",
            "5\n",
            "6\n",
            "7\n",
            "8\n",
            "9\n",
            "10\n",
            "Task done\n"
          ],
          "name": "stdout"
        }
      ]
    },
    {
      "cell_type": "markdown",
      "metadata": {
        "id": "JY6tohKIQm2_"
      },
      "source": [
        "**print n even numbers**"
      ]
    },
    {
      "cell_type": "code",
      "metadata": {
        "colab": {
          "base_uri": "https://localhost:8080/"
        },
        "id": "jBhwhYToQtCM",
        "outputId": "a7f7aae8-9707-430e-9085-8ca093e1e9a5"
      },
      "source": [
        "n=int(input('enter the value for n:'))\n",
        "for i in range(0,n):\n",
        "     print(2*i)\n",
        "     i=i+2\n",
        ""
      ],
      "execution_count": null,
      "outputs": [
        {
          "output_type": "stream",
          "text": [
            "enter the value for n:10\n",
            "0\n",
            "2\n",
            "4\n",
            "6\n",
            "8\n",
            "10\n",
            "12\n",
            "14\n",
            "16\n",
            "18\n"
          ],
          "name": "stdout"
        }
      ]
    },
    {
      "cell_type": "markdown",
      "metadata": {
        "id": "pLjFN_R2Uoqa"
      },
      "source": [
        "**print odd numbers**"
      ]
    },
    {
      "cell_type": "code",
      "metadata": {
        "colab": {
          "base_uri": "https://localhost:8080/"
        },
        "id": "H_4kE5AkUnFa",
        "outputId": "b88e9a4b-9edd-44b1-e8d6-1d49f9031b52"
      },
      "source": [
        "n=int(input('enter the value for n:'))\n",
        "for i in range(0,n):\n",
        "     print(2*i+1)\n",
        "     i=i+2\n",
        ""
      ],
      "execution_count": null,
      "outputs": [
        {
          "output_type": "stream",
          "text": [
            "enter the value for n:10\n",
            "1\n",
            "3\n",
            "5\n",
            "7\n",
            "9\n",
            "11\n",
            "13\n",
            "15\n",
            "17\n",
            "19\n"
          ],
          "name": "stdout"
        }
      ]
    },
    {
      "cell_type": "markdown",
      "metadata": {
        "id": "sGM_-Ff2TRNN"
      },
      "source": [
        "**print the square of  1 to n**"
      ]
    },
    {
      "cell_type": "code",
      "metadata": {
        "colab": {
          "base_uri": "https://localhost:8080/"
        },
        "id": "jdP3UhqHB1D7",
        "outputId": "0c9bae4e-f72f-4c24-ca4c-2d31b3e4c2e4"
      },
      "source": [
        "n=int(input(\"enter the number:\"))\n",
        "print(\"series is:\")\n",
        "for i in range(1,n+1):\n",
        "     print(i*i)\n",
        "     i=i+1\n",
        "\n",
        "\n",
        "\n"
      ],
      "execution_count": null,
      "outputs": [
        {
          "output_type": "stream",
          "text": [
            "enter the number:3\n",
            "series is:\n",
            "1\n",
            "4\n",
            "9\n"
          ],
          "name": "stdout"
        }
      ]
    },
    {
      "cell_type": "markdown",
      "metadata": {
        "id": "S6asDdpGTa9s"
      },
      "source": [
        "**calculator**"
      ]
    },
    {
      "cell_type": "code",
      "metadata": {
        "colab": {
          "base_uri": "https://localhost:8080/"
        },
        "id": "Vzl1xmRuHwMW",
        "outputId": "bc55fbcf-56af-484d-9554-90a21bab8891"
      },
      "source": [
        "op=input(\"enter the operator:\")\n",
        "num1=int(input(\"enter the number:\"))\n",
        "num2=int(input(\"enter the number:\"))\n",
        "if (op=='+'):\n",
        "  result=num1+num2\n",
        "if (op=='-'):\n",
        "  result=num1-num2\n",
        "if (op=='*'):\n",
        "  result=num1*num2\n",
        "if (op=='/'):\n",
        "   if num2==0:\n",
        "     result=\"not defined\"\n",
        "   else:\n",
        "     result=num1/num2\n",
        "print(\"result:\",result)\n",
        "\n",
        "\n"
      ],
      "execution_count": null,
      "outputs": [
        {
          "output_type": "stream",
          "text": [
            "enter the operator://\n",
            "enter the number:32\n",
            "enter the number:2\n",
            "result: 16\n"
          ],
          "name": "stdout"
        }
      ]
    },
    {
      "cell_type": "markdown",
      "metadata": {
        "id": "Z9d3zWE6ZPEn"
      },
      "source": [
        "**vote**"
      ]
    },
    {
      "cell_type": "code",
      "metadata": {
        "colab": {
          "base_uri": "https://localhost:8080/"
        },
        "id": "Gw1jrH8eZOMo",
        "outputId": "94fe7440-354a-4a11-a56d-112f1eb8e6d1"
      },
      "source": [
        "age = int(input(\"Enter Your Age \"))\n",
        "if age >= 18:\n",
        "   print(\"Congrats! you are eligible for Voting.\")\n",
        "if age < 18:\n",
        "  print(\"Sorry! your are not eligible for Voting.\")\n",
        "print(\"THANK YOU.\")"
      ],
      "execution_count": null,
      "outputs": [
        {
          "output_type": "stream",
          "text": [
            "Enter Your Age 2\n",
            "Sorry! your are not eligible for Voting.\n",
            "THANK YOU.\n"
          ],
          "name": "stdout"
        }
      ]
    },
    {
      "cell_type": "markdown",
      "metadata": {
        "id": "NhDxxebtFgK4"
      },
      "source": [
        "**prime or composite**"
      ]
    },
    {
      "cell_type": "code",
      "metadata": {
        "colab": {
          "base_uri": "https://localhost:8080/"
        },
        "id": "pVCc7YHCFvYj",
        "outputId": "fe233d8f-2595-41b8-eb08-f10250b92529"
      },
      "source": [
        "n=int(input(\"enter the number:\"))\n",
        "count=0\n",
        "for i in range(1,n):\n",
        "  (n % i)==0\n",
        "  count=count+1\n",
        "  i=i+1\n",
        "if count==1:\n",
        "  print(n,\"is prime number\")\n",
        "else:\n",
        "  print(n,\"is composite number\")"
      ],
      "execution_count": null,
      "outputs": [
        {
          "output_type": "stream",
          "text": [
            "enter the number:103\n",
            "103 is composite number\n"
          ],
          "name": "stdout"
        }
      ]
    },
    {
      "cell_type": "markdown",
      "metadata": {
        "id": "NxNuY_BlHozg"
      },
      "source": [
        "**vowel or consonant**"
      ]
    },
    {
      "cell_type": "code",
      "metadata": {
        "colab": {
          "base_uri": "https://localhost:8080/"
        },
        "id": "SwgdqwQUHvbt",
        "outputId": "43db0dc3-31d3-4c26-91b4-4880e00c29a1"
      },
      "source": [
        "ch=input(\"enter the character:\")\n",
        "if ch==\"a\" or ch==\"e\" or ch==\"i\" or ch==\"o\" or ch==\"u\" or ch==\"A\" or ch==\"E\" or ch==\"I\" or ch==\"O\" or ch==\"U\":\n",
        "  print(ch,\"is vowel\")\n",
        "else:\n",
        "  print(ch,\"is consonant\")\n"
      ],
      "execution_count": null,
      "outputs": [
        {
          "output_type": "stream",
          "text": [
            "enter the character:k\n",
            "k is consonant\n"
          ],
          "name": "stdout"
        }
      ]
    },
    {
      "cell_type": "markdown",
      "metadata": {
        "id": "FtppSe-KIibV"
      },
      "source": [
        "**sum of n numbers**"
      ]
    },
    {
      "cell_type": "code",
      "metadata": {
        "colab": {
          "base_uri": "https://localhost:8080/"
        },
        "id": "4nn7nVXTImue",
        "outputId": "1b38165b-434f-4036-b202-84fb99d161ef"
      },
      "source": [
        "n=int(input(\"Enter the number:\"))\n",
        "sum=0\n",
        "for i in range(1,n+1):\n",
        "  sum=sum+i\n",
        "print(sum)"
      ],
      "execution_count": null,
      "outputs": [
        {
          "output_type": "stream",
          "text": [
            "Enter the number:5\n",
            "15\n"
          ],
          "name": "stdout"
        }
      ]
    },
    {
      "cell_type": "markdown",
      "metadata": {
        "id": "0QfOkgvfjVwM"
      },
      "source": [
        "**sum of n numbers by recursion**"
      ]
    },
    {
      "cell_type": "code",
      "metadata": {
        "colab": {
          "base_uri": "https://localhost:8080/"
        },
        "id": "YGTm_D16jUf4",
        "outputId": "fffbc5f8-5edc-453f-e749-bde5efaf228a"
      },
      "source": [
        "def sum(n):\n",
        "  sum=0\n",
        "  for i in range(1,n+1):\n",
        "    sum=sum+i\n",
        "  return sum\n",
        "n=int(input(\"enter the number:\"))\n",
        "result=sum(n)\n",
        "print(result)\n",
        ""
      ],
      "execution_count": null,
      "outputs": [
        {
          "output_type": "stream",
          "text": [
            "enter the number:3\n",
            "6\n"
          ],
          "name": "stdout"
        }
      ]
    },
    {
      "cell_type": "markdown",
      "metadata": {
        "id": "-u547DnvQGwg"
      },
      "source": [
        "**sum of even numbers**"
      ]
    },
    {
      "cell_type": "code",
      "metadata": {
        "colab": {
          "base_uri": "https://localhost:8080/"
        },
        "id": "VPXF1mbdVH9z",
        "outputId": "40f87eba-0763-4857-af59-9277d293142c"
      },
      "source": [
        "n=int(input(\"Enter the number:\"))\n",
        "sum=0\n",
        "for i in range(1,n):\n",
        "  sum=sum+2*i\n",
        "print(sum)"
      ],
      "execution_count": null,
      "outputs": [
        {
          "output_type": "stream",
          "text": [
            "Enter the number:3\n",
            "6\n"
          ],
          "name": "stdout"
        }
      ]
    },
    {
      "cell_type": "markdown",
      "metadata": {
        "id": "4a8MrHLjVsn3"
      },
      "source": [
        "**sum of odd numbers**"
      ]
    },
    {
      "cell_type": "code",
      "metadata": {
        "colab": {
          "base_uri": "https://localhost:8080/"
        },
        "id": "S-KtIFmEVrXZ",
        "outputId": "c1d8cb34-9a5b-430f-88ba-be34bb4fb929"
      },
      "source": [
        "n=int(input(\"Enter the number:\"))\n",
        "sum=0\n",
        "for i in range(0,n):\n",
        "  sum=sum+(2*i+1)\n",
        "print(sum)"
      ],
      "execution_count": null,
      "outputs": [
        {
          "output_type": "stream",
          "text": [
            "Enter the number:3\n",
            "9\n"
          ],
          "name": "stdout"
        }
      ]
    },
    {
      "cell_type": "markdown",
      "metadata": {
        "id": "5qoJ8qeHZL2G"
      },
      "source": [
        "**take a list the user and remove the duplicates from the list and count the unique elements in the list**"
      ]
    },
    {
      "cell_type": "code",
      "metadata": {
        "colab": {
          "base_uri": "https://localhost:8080/"
        },
        "id": "P7kXds7pY5vX",
        "outputId": "ebae939b-3ea1-476e-d894-351a547f6fce"
      },
      "source": [
        "n=int(input(\"enter the number:\"))\n",
        "l1=[]\n",
        "sum=0\n",
        "for i in range(0,n):\n",
        "    element=int(input(\"element:\"))\n",
        "    l1.append(element)\n",
        "s1=set(l1)\n",
        "print(s1)\n",
        "\n",
        ""
      ],
      "execution_count": null,
      "outputs": [
        {
          "output_type": "stream",
          "text": [
            "enter the number:3\n",
            "element:1\n",
            "element:2\n",
            "element:2\n",
            "{1, 2}\n"
          ],
          "name": "stdout"
        }
      ]
    },
    {
      "cell_type": "markdown",
      "metadata": {
        "id": "hyLqIG98YwBD"
      },
      "source": [
        "**sum and avg of list**"
      ]
    },
    {
      "cell_type": "code",
      "metadata": {
        "colab": {
          "base_uri": "https://localhost:8080/"
        },
        "id": "_WHBTkGAYs7I",
        "outputId": "fd112a74-be0f-4f7c-ad27-7c4ab8d20b7d"
      },
      "source": [
        "n=int(input(\"enter the number:\"))\n",
        "l1=[]\n",
        "sum=0\n",
        "for i in range(0,n):\n",
        "    element=int(input(\"element:\"))\n",
        "    l1.append(element)\n",
        "    sum=sum+element\n",
        "    avg=sum/n\n",
        "print(\"the sum is\",sum)\n",
        "print(\"the avg us\",avg)"
      ],
      "execution_count": null,
      "outputs": [
        {
          "output_type": "stream",
          "text": [
            "enter the number:3\n",
            "element:1\n",
            "element:2\n",
            "element:3\n",
            "the sum is 6\n",
            "the avg us 2.0\n"
          ],
          "name": "stdout"
        }
      ]
    },
    {
      "cell_type": "markdown",
      "metadata": {
        "id": "Lr78cqI2cLVo"
      },
      "source": [
        "**reverse the list without in bulit functions**"
      ]
    },
    {
      "cell_type": "code",
      "metadata": {
        "colab": {
          "base_uri": "https://localhost:8080/"
        },
        "id": "CgtwPMIdhTwS",
        "outputId": "75b5608a-34ef-4149-eb72-b86034b30fc2"
      },
      "source": [
        "n=int(input(\"enter the number:\"))\n",
        "l1=[]\n",
        "for i in range(0,n):\n",
        "  element=input(\"enter the elemnt:\")\n",
        "  l1.append(element)\n",
        "print(l1)\n",
        "l2=[]\n",
        "for i in range (len(l1)-1,-1,-1):\n",
        "  l2.append(l1[i])\n",
        "print(l2) n\n",
        "\n",
        ""
      ],
      "execution_count": null,
      "outputs": [
        {
          "output_type": "stream",
          "text": [
            "enter the number:3\n",
            "enter the elemnt:1\n",
            "enter the elemnt:2\n",
            "enter the elemnt:3\n",
            "['1', '2', '3']\n",
            "['3', '2', '1']\n"
          ],
          "name": "stdout"
        }
      ]
    },
    {
      "cell_type": "markdown",
      "metadata": {
        "id": "lbpYbj1_c5zp"
      },
      "source": [
        "**reverse the list**"
      ]
    },
    {
      "cell_type": "code",
      "metadata": {
        "id": "2gck1axiV_qL",
        "colab": {
          "base_uri": "https://localhost:8080/"
        },
        "outputId": "2d75041c-e592-492d-ab0b-2c4c4d173fd0"
      },
      "source": [
        "n=[1,2,3,4,5]\n",
        "n.reverse()\n",
        "print(n)\n",
        "\n"
      ],
      "execution_count": null,
      "outputs": [
        {
          "output_type": "stream",
          "text": [
            "[5, 4, 3, 2, 1]\n"
          ],
          "name": "stdout"
        }
      ]
    },
    {
      "cell_type": "code",
      "metadata": {
        "id": "9EFZDsLvj2UI"
      },
      "source": [],
      "execution_count": null,
      "outputs": []
    },
    {
      "cell_type": "markdown",
      "metadata": {
        "id": "hocGs6GhdvwR"
      },
      "source": [
        "**wap to count the number of strings where the string length is 2 or more and the first and last character are same from a given list of strings**\n"
      ]
    },
    {
      "cell_type": "code",
      "metadata": {
        "colab": {
          "base_uri": "https://localhost:8080/"
        },
        "id": "sqm5lXJydbNi",
        "outputId": "924c42d8-ca1c-469d-f75a-350198697c48"
      },
      "source": [
        "n=int(input(\"enter the number:\"))\n",
        "l1=[]\n",
        "for i in range(0,n):\n",
        "  element=input(\"enter the elemnt:\")\n",
        "  l1.append(element)\n",
        "print(l1)\n",
        "count=0\n",
        "for i in range (0,n):\n",
        "  if len(l1[i])>=2:\n",
        "    if l1[i][0]==l1[i][len(l1[i])-1]:\n",
        "      count +=1\n",
        "print(count)"
      ],
      "execution_count": null,
      "outputs": [
        {
          "output_type": "stream",
          "text": [
            "enter the number:3\n",
            "enter the elemnt:1231\n",
            "enter the elemnt:abca\n",
            "enter the elemnt:12356\n",
            "['1231', 'abca', '12356']\n",
            "2\n"
          ],
          "name": "stdout"
        }
      ]
    },
    {
      "cell_type": "markdown",
      "metadata": {
        "id": "h725l4Dbf60Q"
      },
      "source": [
        "**wap to check whether a given key already exists in the dictionary**"
      ]
    },
    {
      "cell_type": "code",
      "metadata": {
        "colab": {
          "base_uri": "https://localhost:8080/"
        },
        "id": "Rce_pKUsf99w",
        "outputId": "ec1a56df-f720-4d54-a9a9-e83792ffba83"
      },
      "source": [
        "d={1:'one',2:'two',3:'three',4:'four'}\n",
        "a=int(input(\"type the key:\"))\n",
        "if a in d:\n",
        "    print(\"yes it is already exists\")\n",
        "else:\n",
        "    print(\"no it is not exists\")"
      ],
      "execution_count": null,
      "outputs": [
        {
          "output_type": "stream",
          "text": [
            "type the key:3\n",
            "yes it is already exists\n"
          ],
          "name": "stdout"
        }
      ]
    },
    {
      "cell_type": "markdown",
      "metadata": {
        "id": "D8fcRPvtgaT6"
      },
      "source": [
        "**fabonocciseries**"
      ]
    },
    {
      "cell_type": "code",
      "metadata": {
        "colab": {
          "base_uri": "https://localhost:8080/"
        },
        "id": "zGPDMlgtgiKn",
        "outputId": "43875c4e-58e8-42c7-8351-4a985ccf1fc8"
      },
      "source": [
        "n=int(input(\"enter the number:\"))\n",
        "a=0\n",
        "b=1\n",
        "for i in range(1,n+1):\n",
        "    c=a+b\n",
        "    a=b\n",
        "    b=c\n",
        "    i=i+1\n",
        "print(a)"
      ],
      "execution_count": null,
      "outputs": [
        {
          "output_type": "stream",
          "text": [
            "enter the number:6\n",
            "8\n"
          ],
          "name": "stdout"
        }
      ]
    },
    {
      "cell_type": "markdown",
      "metadata": {
        "id": "Kl40fA77g1Fr"
      },
      "source": [
        "**swapping of two numbers**"
      ]
    },
    {
      "cell_type": "code",
      "metadata": {
        "colab": {
          "base_uri": "https://localhost:8080/"
        },
        "id": "s8Brry9IhEak",
        "outputId": "3800b2f6-0fe8-4d95-8440-e45b173ce330"
      },
      "source": [
        "a=int(input(\"enter the number:\"))\n",
        "b=int(input(\"enter the number:\"))\n",
        "print(\"before swapping:\",\"a=\",a ,\"b=\",b)\n",
        "c=a\n",
        "a=b\n",
        "b=c\n",
        "print(\"after swapping:\",\"a=\",a,\"b=\",b)"
      ],
      "execution_count": null,
      "outputs": [
        {
          "output_type": "stream",
          "text": [
            "enter the number:1\n",
            "enter the number:2\n",
            "before swapping: a= 1 b= 2\n",
            "after swapping: a= 2 b= 1\n"
          ],
          "name": "stdout"
        }
      ]
    },
    {
      "cell_type": "markdown",
      "metadata": {
        "id": "ASkvW4NBiTcx"
      },
      "source": [
        "**polindrone or not**"
      ]
    },
    {
      "cell_type": "code",
      "metadata": {
        "colab": {
          "base_uri": "https://localhost:8080/"
        },
        "id": "2bFFAq6tu0KH",
        "outputId": "28d1f677-854f-45a4-a150-3720e37d4fa5"
      },
      "source": [
        "n = input(\"Enter the word or number: \")\n",
        "if n == n[::-1]:\n",
        "  print(n,\"is palindrome\")\n",
        "else:\n",
        "  print(n,\"is not palindrome\")\n",
        ""
      ],
      "execution_count": null,
      "outputs": [
        {
          "output_type": "stream",
          "text": [
            "Enter the word or number: 1221\n",
            "1221 is palindrome\n"
          ],
          "name": "stdout"
        }
      ]
    },
    {
      "cell_type": "markdown",
      "metadata": {
        "id": "nI562L-QoMdM"
      },
      "source": [
        "**quadratic equation**"
      ]
    },
    {
      "cell_type": "code",
      "metadata": {
        "colab": {
          "base_uri": "https://localhost:8080/"
        },
        "id": "FBOMMdB2ofAi",
        "outputId": "1ccbff51-e02b-4294-dc81-8d0ae550fe76"
      },
      "source": [
        "a=int(input(\"enter the number:\"))\n",
        "b=int(input(\"enter the number:\"))\n",
        "c=int(input(\"enter the number:\"))\n",
        "print(a,\"x2+\",b,\"x\",c,\"=0\")\n",
        "d= (-b+(b**2-4*a*c)**0.5)/2*a\n",
        "e= (-b-(b**2-4*a*c)**0.5)/2*a\n",
        "print(\"roots =\",d,\",\",e)"
      ],
      "execution_count": null,
      "outputs": [
        {
          "output_type": "stream",
          "text": [
            "enter the number:1\n",
            "enter the number:4\n",
            "enter the number:-5\n",
            "1 x2+ 4 x -5 =0\n",
            "roots = 1.0 , -5.0\n"
          ],
          "name": "stdout"
        }
      ]
    },
    {
      "cell_type": "markdown",
      "metadata": {
        "id": "Nmb1HB7HJirA"
      },
      "source": [
        "**perform sum for the following series.\n",
        "1/12+1/22+1/32+........+1/n2**"
      ]
    },
    {
      "cell_type": "code",
      "metadata": {
        "colab": {
          "base_uri": "https://localhost:8080/"
        },
        "id": "CF1TcyMmJk3Q",
        "outputId": "01c54c10-a6c4-4bb9-890c-409425b8e31b"
      },
      "source": [
        "n=int(input(\"enter the number:\"))\n",
        "sum=0\n",
        "for i in range(1,n+1):\n",
        "  c=1/i**2\n",
        "  sum=sum+c\n",
        "print(sum)"
      ],
      "execution_count": null,
      "outputs": [
        {
          "output_type": "stream",
          "text": [
            "enter the number:2\n",
            "1.25\n"
          ],
          "name": "stdout"
        }
      ]
    },
    {
      "cell_type": "markdown",
      "metadata": {
        "id": "BPIlmehTtZvy"
      },
      "source": [
        "**perform sum for the following series.\n",
        "1+1/2+1/3+1/4+.........+1/n**"
      ]
    },
    {
      "cell_type": "code",
      "metadata": {
        "colab": {
          "base_uri": "https://localhost:8080/"
        },
        "id": "nmjvntUUKzUB",
        "outputId": "fdd32d3d-40ab-4be4-f8c3-534716db6ff0"
      },
      "source": [
        "n=int(input(\"enter the number:\"))\n",
        "sum=0\n",
        "for i in range(1,n+1):\n",
        "  c=1/i\n",
        "  sum=sum+c\n",
        "print(sum)"
      ],
      "execution_count": null,
      "outputs": [
        {
          "output_type": "stream",
          "text": [
            "enter the number:2\n",
            "1.5\n"
          ],
          "name": "stdout"
        }
      ]
    },
    {
      "cell_type": "markdown",
      "metadata": {
        "id": "I7WbUXzStem4"
      },
      "source": [
        "**perform sum of the following series...\n",
        "1/2+2/3+3/4+......n/n+1**"
      ]
    },
    {
      "cell_type": "code",
      "metadata": {
        "colab": {
          "base_uri": "https://localhost:8080/"
        },
        "id": "-YDy9tP-LT_J",
        "outputId": "dd2d23c0-fbc6-426d-97a9-e552492e2116"
      },
      "source": [
        "n=int(input(\"enter the number:\"))\n",
        "sum=0\n",
        "for i in range(1,n+1):\n",
        "  c=i/(i+1)\n",
        "  sum=sum+c\n",
        "print(sum)"
      ],
      "execution_count": null,
      "outputs": [
        {
          "output_type": "stream",
          "text": [
            "enter the number:5\n",
            "3.5500000000000003\n"
          ],
          "name": "stdout"
        }
      ]
    },
    {
      "cell_type": "markdown",
      "metadata": {
        "id": "lBcQD0OjtmDg"
      },
      "source": [
        "**perform sum of the following series...\n",
        "1/2^+2/2+3^3/3+......n^i/n**"
      ]
    },
    {
      "cell_type": "code",
      "metadata": {
        "colab": {
          "base_uri": "https://localhost:8080/"
        },
        "id": "4nT9zLzCOc6x",
        "outputId": "c80a0e76-dd65-4d63-a51f-9f18ef60562e"
      },
      "source": [
        "n=int(input(\"enter the number:\"))\n",
        "sum=0\n",
        "for i in range(1,n+1):\n",
        "  c=i**i/i\n",
        "  sum=sum+c\n",
        "print(sum)"
      ],
      "execution_count": null,
      "outputs": [
        {
          "output_type": "stream",
          "text": [
            "enter the number:5\n",
            "701.0\n"
          ],
          "name": "stdout"
        }
      ]
    },
    {
      "cell_type": "markdown",
      "metadata": {
        "id": "lck8uw3a6OWu"
      },
      "source": [
        "**calculator using define function**"
      ]
    },
    {
      "cell_type": "code",
      "metadata": {
        "colab": {
          "base_uri": "https://localhost:8080/"
        },
        "id": "-uC_ru_nywO2",
        "outputId": "4f75f0f2-575c-4d53-db56-840ff7798bb2"
      },
      "source": [
        "def add(x, y):\n",
        "    return x + y\n",
        "\n",
        "def subtract(x, y):\n",
        "    return x - y\n",
        "\n",
        "def multiply(x, y):\n",
        "    return x * y\n",
        "\n",
        "def divide(x, y):\n",
        "    return x / y\n",
        "op=input(\"enter the operator:\")\n",
        "x=int(input(\"enter the number:\"))\n",
        "y=int(input(\"enter the number:\"))\n",
        "if (op=='+'):\n",
        "  print(x, \"+\", y, \"=\", add(x, y))\n",
        "if (op=='-'):\n",
        "  print(x, \"-\", y, \"=\", subtract(x, y))\n",
        "if (op=='*'):\n",
        "  print(x, \"*\", y, \"=\", multiply(x, y))\n",
        "if (op=='/'):\n",
        "  print(x, \"/\", y, \"=\", divide(x, y))"
      ],
      "execution_count": null,
      "outputs": [
        {
          "output_type": "stream",
          "text": [
            "enter the operator:+\n",
            "enter the number:1\n",
            "enter the number:2\n",
            "1 + 2 = 3\n"
          ],
          "name": "stdout"
        }
      ]
    },
    {
      "cell_type": "markdown",
      "metadata": {
        "id": "_tSmy_K86Uu_"
      },
      "source": [
        "**convert a binary number to decimal number snd verify if it is a perfect**"
      ]
    },
    {
      "cell_type": "code",
      "metadata": {
        "colab": {
          "base_uri": "https://localhost:8080/"
        },
        "id": "KfA12XOBzh32",
        "outputId": "45b4f6fa-fe8c-42ec-8c58-de72ce1af4df"
      },
      "source": [
        "x= input(\"Enter a binary number: \")\n",
        "l= list(x)\n",
        "value= 0\n",
        "for i in range(len(l)):\n",
        "\tdigit = l.pop()\n",
        "\tif digit == '1':\n",
        "\t\tvalue = value + 2**i\n",
        "print(value)\n",
        "sum=0\n",
        "for j in range(1,value):\n",
        "  if value%j==0:\n",
        "    sum=sum+j\n",
        "if(value==sum):\n",
        "  print(\"Perfect number\")\n",
        "else:\n",
        "  print(\"Not a Perfect Number\")\n",
        "\n",
        "\n"
      ],
      "execution_count": null,
      "outputs": [
        {
          "output_type": "stream",
          "text": [
            "Enter a binary number: 110\n",
            "6\n",
            "Perfect number\n"
          ],
          "name": "stdout"
        }
      ]
    },
    {
      "cell_type": "markdown",
      "metadata": {
        "id": "xA1jDeP8czYV"
      },
      "source": [
        "**polindrone or not by define function**"
      ]
    },
    {
      "cell_type": "code",
      "metadata": {
        "colab": {
          "base_uri": "https://localhost:8080/"
        },
        "id": "FRIwjE6kDsgE",
        "outputId": "66f888d6-3c00-4316-e7c5-d674d85cb325"
      },
      "source": [
        "def polindrone(n):\n",
        "  if n==n[::-1]:\n",
        "    return True\n",
        "  else:\n",
        "    return False\n",
        "n=input(\"enter the number:\")\n",
        "if polindrone(n)==True:\n",
        "  print(n,\"is palindrome\")\n",
        "else:\n",
        "  print(n,\"is not palindrome\")"
      ],
      "execution_count": null,
      "outputs": [
        {
          "output_type": "stream",
          "text": [
            "enter the number:gg\n",
            "gg is palindrome\n"
          ],
          "name": "stdout"
        }
      ]
    },
    {
      "cell_type": "markdown",
      "metadata": {
        "id": "zbzK0YOlEEpc"
      },
      "source": [
        "**area of circle**"
      ]
    },
    {
      "cell_type": "code",
      "metadata": {
        "colab": {
          "base_uri": "https://localhost:8080/"
        },
        "id": "2BkGCDPcEIfo",
        "outputId": "37ce5436-c75f-4829-ad90-e276e74fbc96"
      },
      "source": [
        "r=int(input(\"enter the radius:\"))\n",
        "area=3.14*r**2\n",
        "print(\"radius of circle=\",area)"
      ],
      "execution_count": null,
      "outputs": [
        {
          "output_type": "stream",
          "text": [
            "enter the radius:2\n",
            "radius of circle= 12.56\n"
          ],
          "name": "stdout"
        }
      ]
    },
    {
      "cell_type": "markdown",
      "metadata": {
        "id": "gCAViRdhke2P"
      },
      "source": [
        "**area of rectangle**"
      ]
    },
    {
      "cell_type": "code",
      "metadata": {
        "id": "uyFM1y9yAoJJ",
        "colab": {
          "base_uri": "https://localhost:8080/"
        },
        "outputId": "fb98bdc4-18db-4ba5-e6bd-568d84a90ebd"
      },
      "source": [
        "l = int(input(\"Enter rectangle's length: \"))\n",
        "b = int(input(\"Enter rectangle's breadth: \"))\n",
        "area = l * b\n",
        "print(\"The area of rectangle is\" ,area)\n"
      ],
      "execution_count": null,
      "outputs": [
        {
          "output_type": "stream",
          "text": [
            "Enter rectangle's length: 2\n",
            "Enter rectangle's breadth: 4\n",
            "The area of rectangle is 8\n"
          ],
          "name": "stdout"
        }
      ]
    },
    {
      "cell_type": "markdown",
      "metadata": {
        "id": "zQlvcpM4lNaX"
      },
      "source": [
        "**area of square**"
      ]
    },
    {
      "cell_type": "code",
      "metadata": {
        "colab": {
          "base_uri": "https://localhost:8080/"
        },
        "id": "IVlTbextk8gx",
        "outputId": "6e311e2e-e6bc-49c4-c7c0-9c04594c39fe"
      },
      "source": [
        "s = int(input(\"Enter square's side length: \"))\n",
        "area = s * s\n",
        "print(\"The area of square is:\",area)\n"
      ],
      "execution_count": null,
      "outputs": [
        {
          "output_type": "stream",
          "text": [
            "Enter square's side length: 2\n",
            "The area of square is: 4\n"
          ],
          "name": "stdout"
        }
      ]
    },
    {
      "cell_type": "markdown",
      "metadata": {
        "id": "yA5J_4zhlkyS"
      },
      "source": [
        "**area of triangle**"
      ]
    },
    {
      "cell_type": "code",
      "metadata": {
        "colab": {
          "base_uri": "https://localhost:8080/"
        },
        "id": "PmeADQaUln5w",
        "outputId": "48a5a8af-f26f-4261-cd1a-95232813ba44"
      },
      "source": [
        "h = int(input(\"Enter triangle's height length: \"))\n",
        "b = int(input(\"Enter triangle's breadth length: \"))\n",
        "area = 0.5 * b * h\n",
        "print(\"The area of triangle is:\",area)\n"
      ],
      "execution_count": null,
      "outputs": [
        {
          "output_type": "stream",
          "text": [
            "Enter triangle's height length: 2\n",
            "Enter triangle's breadth length: 6\n",
            "The area of triangle is: 6.0\n"
          ],
          "name": "stdout"
        }
      ]
    },
    {
      "cell_type": "markdown",
      "metadata": {
        "id": "j8v_h0tUp_C4"
      },
      "source": [
        "**count,sum,avg of numbers**"
      ]
    },
    {
      "cell_type": "code",
      "metadata": {
        "colab": {
          "base_uri": "https://localhost:8080/"
        },
        "id": "kTkK_UOhmrvq",
        "outputId": "78006838-cdb9-4efc-e662-f5ff290752a9"
      },
      "source": [
        "n=int(input(\"Enter the number:\"))\n",
        "sum=0\n",
        "for i in range(1,n+1):\n",
        "  sum=sum+i\n",
        "  avg=sum/n\n",
        "count=0\n",
        "while n !=0:\n",
        "  n//=10\n",
        "  count+=1\n",
        "print(\"count:\",str(count))\n",
        "print(\"average:\",avg)\n",
        "print(\"sum:\",sum)"
      ],
      "execution_count": null,
      "outputs": [
        {
          "output_type": "stream",
          "text": [
            "Enter the number:25\n",
            "count: 2\n",
            "average: 13.0\n",
            "sum: 325\n"
          ],
          "name": "stdout"
        }
      ]
    },
    {
      "cell_type": "markdown",
      "metadata": {
        "id": "QwBu1jBVrXlL"
      },
      "source": [
        " **Write a python program to print a list of strings should contains only the uppercase strings (string=” operators in Python**"
      ]
    },
    {
      "cell_type": "code",
      "metadata": {
        "colab": {
          "base_uri": "https://localhost:8080/"
        },
        "id": "xFTeZu4lqX6S",
        "outputId": "005e41d5-0ca3-498d-e442-ca32e0fd478d"
      },
      "source": [
        "n=int(input(\"enter the number:\"))\n",
        "l1=[]\n",
        "sum=0\n",
        "for i in range(0,n):\n",
        "    element=input(\"element:\")\n",
        "    l1.append(element.upper())\n",
        "print(l1)\n",
        "\n",
        ""
      ],
      "execution_count": null,
      "outputs": [
        {
          "output_type": "stream",
          "text": [
            "enter the number:4\n",
            "element:abba\n",
            "element:dfg\n",
            "element:sfdg\n",
            "element:dgd\n",
            "['ABBA', 'DFG', 'SFDG', 'DGD']\n"
          ],
          "name": "stdout"
        }
      ]
    },
    {
      "cell_type": "markdown",
      "metadata": {
        "id": "74uLRJc7reho"
      },
      "source": [
        "**polindrone by loop function**"
      ]
    },
    {
      "cell_type": "code",
      "metadata": {
        "id": "6LCj6iBTrdv3",
        "colab": {
          "base_uri": "https://localhost:8080/"
        },
        "outputId": "f57afc5b-2cf3-47e9-9e8b-4abd475c9f30"
      },
      "source": [
        "def pal(n):\n",
        "  j=len(n)-1\n",
        "  count = 0\n",
        "  for i in range(len(n)//2):\n",
        "    if n[i]==n[j]:\n",
        "      count+=1\n",
        "  if count == len(n)//2:\n",
        "    return True\n",
        "  else:\n",
        "    return False\n",
        "n=input(\"enter the word or number:\")\n",
        "if pal(n) == True:\n",
        "  print(n,\"is polindrone\")\n",
        "else:\n",
        "  print(n,\"is not polindrone\")\n"
      ],
      "execution_count": null,
      "outputs": [
        {
          "output_type": "stream",
          "text": [
            "enter the word or number:123\n",
            "123 is polindrone\n"
          ],
          "name": "stdout"
        }
      ]
    },
    {
      "cell_type": "markdown",
      "metadata": {
        "id": "ImGjexkbY9tj"
      },
      "source": [
        "**fibnocci series by recursion**"
      ]
    },
    {
      "cell_type": "code",
      "metadata": {
        "colab": {
          "base_uri": "https://localhost:8080/"
        },
        "id": "GUVmCldEXzY2",
        "outputId": "8ddcebdf-37fb-45c2-d816-07f4ceb6cf56"
      },
      "source": [
        "def fib(n):\n",
        "  if n==1:\n",
        "    return 0\n",
        "  elif n==2 or n==3:\n",
        "    return 1\n",
        "  else:\n",
        "    return fib(n-1)+fib(n-2)\n",
        "n=int(input(\"enter the number:\"))\n",
        "for i in range(1,n+1):\n",
        "  print(fib(i))"
      ],
      "execution_count": null,
      "outputs": [
        {
          "output_type": "stream",
          "text": [
            "enter the number:5\n",
            "0\n",
            "1\n",
            "1\n",
            "2\n",
            "3\n"
          ],
          "name": "stdout"
        }
      ]
    },
    {
      "cell_type": "markdown",
      "metadata": {
        "id": "3uQT9_EsmkF6"
      },
      "source": [
        "**polindrone by recursion**"
      ]
    },
    {
      "cell_type": "code",
      "metadata": {
        "colab": {
          "base_uri": "https://localhost:8080/"
        },
        "id": "RJDf5tBFdIvB",
        "outputId": "053fa48e-2d1d-467c-e420-94cce551acaa"
      },
      "source": [
        "def polindrone(n):\n",
        "  if len(n) < 1:\n",
        "    return True\n",
        "  else:\n",
        "    if n[0]==n[-1]:\n",
        "      return polindrone(n[1:-1])\n",
        "    else:\n",
        "      return False\n",
        "n=input(\"enter the number:\")\n",
        "if (polindrone(n)==True):\n",
        "  print(n,\"is palindrome\")\n",
        "else:\n",
        "  print(n,\"is not palindrome\")"
      ],
      "execution_count": null,
      "outputs": [
        {
          "output_type": "stream",
          "text": [
            "enter the number:mom\n",
            "mom is palindrome\n"
          ],
          "name": "stdout"
        }
      ]
    },
    {
      "cell_type": "markdown",
      "metadata": {
        "id": "LZ7gW3r1YNtn"
      },
      "source": [
        "**Given a positive integer, write a function to find if it is a power of two or not.**"
      ]
    },
    {
      "cell_type": "code",
      "metadata": {
        "colab": {
          "base_uri": "https://localhost:8080/"
        },
        "id": "W3UwC8R1VdTJ",
        "outputId": "8b6f06ab-ac49-4a64-fbb2-d48eef3597fc"
      },
      "source": [
        "def is_power_of_two(n):\n",
        "    \"\"\"Return True if n is a power of two.\"\"\"\n",
        "    if n <= 1:\n",
        "        return False\n",
        "    else:\n",
        "        return n & (n - 1) == 0\n",
        "\n",
        "n = int(input('Enter a number: '))\n",
        "\n",
        "if is_power_of_two(n):\n",
        "    print(\"YES\")\n",
        "else:\n",
        "    print(\"NO\")"
      ],
      "execution_count": null,
      "outputs": [
        {
          "output_type": "stream",
          "text": [
            "Enter a number: 3\n",
            "No\n"
          ],
          "name": "stdout"
        }
      ]
    },
    {
      "cell_type": "markdown",
      "metadata": {
        "id": "72iMQxflgdDp"
      },
      "source": [
        "**check whether anagram or not**"
      ]
    },
    {
      "cell_type": "code",
      "metadata": {
        "colab": {
          "base_uri": "https://localhost:8080/"
        },
        "id": "Dlw15wx3dWqN",
        "outputId": "2417b0be-b936-483c-a45a-c4ed99d875f2"
      },
      "source": [
        "s1=input(\"enter the string:\")\n",
        "s2=input(\"enter the number:\")\n",
        "if (sorted(s1)==sorted(s2)):\n",
        "  print('true')\n",
        "else:\n",
        "  print('false')\n"
      ],
      "execution_count": null,
      "outputs": [
        {
          "output_type": "stream",
          "text": [
            "enter the string:1\n",
            "enter the number:2\n",
            "false\n"
          ],
          "name": "stdout"
        }
      ]
    },
    {
      "cell_type": "markdown",
      "metadata": {
        "id": "JNaMaI2fjXu5"
      },
      "source": [
        "**given an integer n,return a list with each number from 1 to n, except if its a multiple of 3 or has a 3,6, or 9 in the number ,it should be the string \"clap\"**"
      ]
    },
    {
      "cell_type": "code",
      "metadata": {
        "id": "7n1KBBjagyS6",
        "colab": {
          "base_uri": "https://localhost:8080/"
        },
        "outputId": "3d6bf470-3d6e-451f-9ee1-50651c512c61"
      },
      "source": [
        "n=int(input(\"enter the number:\"))\n",
        "l1=[str(i)for i in range(1,n+1)]\n",
        "for i in range(len(l1)):\n",
        "  if int(l1[i])%3==0:\n",
        "    l1[i]=\"clap\"\n",
        "  if '3' in l1[i]:\n",
        "    l1[i]='clap'\n",
        "  if '6' in l1[i]:\n",
        "    l1[i]='clap'\n",
        "  if '9' in l1[i]:\n",
        "    l1[i]='clap'\n",
        "print(l1)\n",
        "\n",
        "\n",
        "\n",
        ""
      ],
      "execution_count": null,
      "outputs": [
        {
          "output_type": "stream",
          "text": [
            "enter the number:20\n",
            "['1', '2', 'clap', '4', '5', 'clap', '7', '8', 'clap', '10', '11', 'clap', 'clap', '14', 'clap', 'clap', '17', 'clap', 'clap', '20']\n"
          ],
          "name": "stdout"
        }
      ]
    },
    {
      "cell_type": "code",
      "metadata": {
        "colab": {
          "base_uri": "https://localhost:8080/"
        },
        "id": "VrlOSJaAgDVQ",
        "outputId": "08277ba9-98f3-40f2-8d1f-68d94ff5e92f"
      },
      "source": [
        "n=int(input(\"enter the number:\"))\n",
        "l1=[]\n",
        "for i in range(1,n+1):\n",
        "  l1.append(str(i))\n",
        "for i in range(len(l1)):\n",
        "  if int(l1[i])%3==0:\n",
        "    l1[i]=\"clap\"\n",
        "  if '3' in l1[i]:\n",
        "    l1[i]=\"clap\"\n",
        "  if '6' in l1[i]:\n",
        "    l1[i]=\"clap\"\n",
        "  if '9' in l1[i]:\n",
        "    l1[i]=\"clap\"\n",
        "print(l1)"
      ],
      "execution_count": null,
      "outputs": [
        {
          "output_type": "stream",
          "text": [
            "enter the number:20\n",
            "['1', '2', 'clap', '4', '5', 'clap', '7', '8', 'clap', '10', '11', 'clap', 'clap', '14', 'clap', 'clap', '17', 'clap', 'clap', '20']\n"
          ],
          "name": "stdout"
        }
      ]
    },
    {
      "cell_type": "code",
      "metadata": {
        "colab": {
          "base_uri": "https://localhost:8080/"
        },
        "id": "kxo8dkohACXz",
        "outputId": "cd3bbe71-0a68-48d8-c51a-ee792ee0e77e"
      },
      "source": [
        "n=int(input(\"enter the number:\"))\n",
        "l1=[]\n",
        "for i in range(0,n):\n",
        "  e=input(\"enter the word=\")\n",
        "  l1.append(e[i][0].upper()+e[i][1:].lower())\n",
        "print(l1)"
      ],
      "execution_count": null,
      "outputs": [
        {
          "output_type": "stream",
          "text": [
            "enter the number:2\n",
            "enter the word=ghgnhg\n",
            "enter the word=htrhthf\n",
            "['G', 'T']\n"
          ],
          "name": "stdout"
        }
      ]
    },
    {
      "cell_type": "markdown",
      "metadata": {
        "id": "tmSswr-kMyHm"
      },
      "source": [
        "**Given a list of integers nums, find the most frequently occurring element and return the number of occurrences of that element.**"
      ]
    },
    {
      "cell_type": "code",
      "metadata": {
        "colab": {
          "base_uri": "https://localhost:8080/"
        },
        "id": "ZrKk8rlLJBWW",
        "outputId": "ea30d15a-ce4d-45a6-c92f-3a04515264e2"
      },
      "source": [
        "def f(n):\n",
        "  l1=[]\n",
        "  if len(n)==0:\n",
        "    return 0\n",
        "  for num in n:\n",
        "    l1.append(n.count(num))\n",
        "    n.remove(num)\n",
        "    return max(l1)\n",
        "f([1,4,1,7,1,7,1,1])"
      ],
      "execution_count": null,
      "outputs": [
        {
          "output_type": "execute_result",
          "data": {
            "text/plain": [
              "5"
            ]
          },
          "metadata": {
            "tags": []
          },
          "execution_count": 36
        }
      ]
    },
    {
      "cell_type": "markdown",
      "metadata": {
        "id": "fe1XcEm8OqZB"
      },
      "source": [
        "**You are given a list nums of length n + 1 picked from the range 1, 2, ..., n. Find and return it. There is guaranteed to be exactly one duplicate.**"
      ]
    },
    {
      "cell_type": "code",
      "metadata": {
        "colab": {
          "base_uri": "https://localhost:8080/"
        },
        "id": "1ixM7bPkM5-L",
        "outputId": "e53efa46-0d1b-4ee9-af6a-e1fb03268219"
      },
      "source": [
        "def d(a):\n",
        "  l1=[]\n",
        "  for i in range(len(a)):\n",
        "    if a[i] in l1:\n",
        "      return a[i]\n",
        "    else:\n",
        "      l1.append(a[i])\n",
        "print(\"output=\",d([1,1,6,5,1,2]))"
      ],
      "execution_count": null,
      "outputs": [
        {
          "output_type": "stream",
          "text": [
            "output= 1\n"
          ],
          "name": "stdout"
        }
      ]
    },
    {
      "cell_type": "code",
      "metadata": {
        "colab": {
          "base_uri": "https://localhost:8080/"
        },
        "id": "33olOiYuOtDz",
        "outputId": "212aec20-6c24-496b-aabd-8678e2563329"
      },
      "source": [
        "n=int(input(\"enter the number:\"))\n",
        "for i in range(0,n+1):\n",
        "  print(i*\"*\")\n",
        "for i in range(n-1,-1,-1):\n",
        "  print(i*\"*\")\n"
      ],
      "execution_count": null,
      "outputs": [
        {
          "output_type": "stream",
          "text": [
            "enter the number:5\n",
            "\n",
            "*\n",
            "**\n",
            "***\n",
            "****\n",
            "*****\n",
            "****\n",
            "***\n",
            "**\n",
            "*\n",
            "\n"
          ],
          "name": "stdout"
        }
      ]
    },
    {
      "cell_type": "code",
      "metadata": {
        "colab": {
          "base_uri": "https://localhost:8080/"
        },
        "id": "X0sjHM8p2b1q",
        "outputId": "8a7e23b5-cc3a-4f6b-b2a3-1f46e2e661ed"
      },
      "source": [
        "n=int(input(\"enter the number:\"))\n",
        "l1=[]\n",
        "for i in range(0,n):\n",
        "  e=int(input(\"enter the number:\"))\n",
        "  l1.append(e)\n",
        "  l1.sort()\n",
        "print(l1)\n",
        "\n"
      ],
      "execution_count": null,
      "outputs": [
        {
          "output_type": "stream",
          "text": [
            "enter the number:5\n",
            "enter the number:12\n",
            "enter the number:3\n",
            "enter the number:22\n",
            "enter the number:4\n",
            "enter the number:56\n",
            "[3, 4, 12, 22, 56]\n"
          ],
          "name": "stdout"
        }
      ]
    },
    {
      "cell_type": "code",
      "metadata": {
        "colab": {
          "base_uri": "https://localhost:8080/"
        },
        "id": "5XSYhmpo74lp",
        "outputId": "4c369812-27ae-43cf-b6af-020f8d999aa3"
      },
      "source": [
        "a=open(\"12.txt\")\n",
        "n=[]\n",
        "for i in a:\n",
        "  temp=i.split()\n",
        "  for j in temp:\n",
        "    n.append(int(j))\n",
        "a.close()\n",
        "n.sort()\n",
        "print(n)"
      ],
      "execution_count": null,
      "outputs": [
        {
          "output_type": "stream",
          "text": [
            "[1, 2, 4, 5, 8, 52]\n"
          ],
          "name": "stdout"
        }
      ]
    }
  ]
}